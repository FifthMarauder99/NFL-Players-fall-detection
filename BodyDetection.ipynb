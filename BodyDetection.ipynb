{
 "cells": [
  {
   "cell_type": "code",
   "execution_count": 1,
   "id": "e4e0a910",
   "metadata": {},
   "outputs": [],
   "source": [
    "#Pose estimation"
   ]
  },
  {
   "cell_type": "code",
   "execution_count": 3,
   "id": "8d77b2a7",
   "metadata": {},
   "outputs": [],
   "source": [
    "#importing libraries\n",
    "import cv2\n",
    "import mediapipe as mp\n",
    "import time\n",
    "from pytube import YouTube"
   ]
  },
  {
   "cell_type": "code",
   "execution_count": 4,
   "id": "e8714f33",
   "metadata": {},
   "outputs": [
    {
     "data": {
      "text/plain": [
       "'c:\\\\Users\\\\Maitreya\\\\Coding&Misc\\\\PersonalProjects\\\\BodyDetection\\\\GRANT A WISH KIDS TOUCHDOWN GETS DENIED!.mp4'"
      ]
     },
     "execution_count": 4,
     "metadata": {},
     "output_type": "execute_result"
    }
   ],
   "source": [
    "# initialize YouTube object\n",
    "yt = YouTube('https://www.youtube.com/watch?v=uOFQkkwqpEE&ab_channel=LifeAccordingToJimmy')\n",
    "\n",
    "# select the highest resolution video\n",
    "stream = yt.streams.get_highest_resolution()\n",
    "\n",
    "# download the video to the current working directory\n",
    "stream.download()"
   ]
  },
  {
   "cell_type": "code",
   "execution_count": 5,
   "id": "b3c685b1",
   "metadata": {},
   "outputs": [],
   "source": [
    "#capturing video\n",
    "cap=cv2.VideoCapture(\"test3.mp4\")\n",
    "\n",
    "#this will help us detect the pose and draw the reference points\n",
    "mpPose=mp.solutions.pose\n",
    "pose=mpPose.Pose(min_detection_confidence=0.5, min_tracking_confidence=0.5)\n",
    "mpDraw=mp.solutions.drawing_utils\n",
    "\n",
    "#variables required to print frame rate\n",
    "previous_time=0\n",
    "current_time=0\n",
    "\n",
    "#videoz\n",
    "while True:\n",
    "    success, img=cap.read()\n",
    "    \n",
    "    #converting image to rgb\n",
    "    img_rgb=cv2.cvtColor(img, cv2.COLOR_BGR2RGB)\n",
    "    \n",
    "    results=pose.process(img_rgb)\n",
    "    \n",
    "    if results.pose_landmarks:\n",
    "        mpDraw.draw_landmarks(img, results.pose_landmarks, mpPose.POSE_CONNECTIONS)\n",
    "    \n",
    "    #calculating the frame rate\n",
    "    current_time=time.time()\n",
    "    frame_rate=1/(current_time-previous_time)\n",
    "    previous_time=current_time\n",
    "    \n",
    "    #displaying the results\n",
    "    cv2.putText(img, str(int(frame_rate)), (20, 40), cv2.FONT_HERSHEY_PLAIN, 3, (0, 0, 255), 3)\n",
    "    cv2.imshow(\"camera\", img)\n",
    "    if cv2.waitKey(1) & 0xFF==ord('q'):\n",
    "        cap.release()\n",
    "        cv2.destroyAllWindows()\n",
    "        break"
   ]
  },
  {
   "cell_type": "code",
   "execution_count": null,
   "id": "65a1928c",
   "metadata": {},
   "outputs": [],
   "source": []
  }
 ],
 "metadata": {
  "interpreter": {
   "hash": "c54563588467393a714028ff62aae6966c79b8c073f6a79393d3b65012d0dd08"
  },
  "kernelspec": {
   "display_name": "Python 3.8.8 ('tensorflow')",
   "language": "python",
   "name": "python3"
  },
  "language_info": {
   "codemirror_mode": {
    "name": "ipython",
    "version": 3
   },
   "file_extension": ".py",
   "mimetype": "text/x-python",
   "name": "python",
   "nbconvert_exporter": "python",
   "pygments_lexer": "ipython3",
   "version": "3.8.8"
  }
 },
 "nbformat": 4,
 "nbformat_minor": 5
}
