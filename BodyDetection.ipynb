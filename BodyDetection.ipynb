{
 "cells": [
  {
   "cell_type": "code",
   "execution_count": 7,
   "id": "e4e0a910",
   "metadata": {},
   "outputs": [],
   "source": [
    "#Pose estimation"
   ]
  },
  {
   "cell_type": "code",
   "execution_count": 8,
   "id": "8d77b2a7",
   "metadata": {},
   "outputs": [],
   "source": [
    "#importing libraries\n"
   ]
  },
  {
   "cell_type": "code",
   "execution_count": 1,
   "id": "9456259c",
   "metadata": {},
   "outputs": [
    {
     "data": {
      "text/plain": [
       "'/Users/maitreyakanitkar/Desktop/Coding&Misc/PersonalProjects/BodyDetection/NFL Nastiest Jukes of the 2022-2023 Season.mp4'"
      ]
     },
     "execution_count": 1,
     "metadata": {},
     "output_type": "execute_result"
    }
   ],
   "source": [
    "from pytube import YouTube\n",
    "\n",
    "yt=YouTube(\"https://www.youtube.com/watch?v=Gr3nxP511MY&ab_channel=DingProductions\")\n",
    "\n",
    "stream = yt.streams.get_highest_resolution()\n",
    "\n",
    "stream.download()\n",
    "\n"
   ]
  },
  {
   "cell_type": "code",
   "execution_count": 2,
   "id": "b3c685b1",
   "metadata": {},
   "outputs": [
    {
     "name": "stderr",
     "output_type": "stream",
     "text": [
      "objc[76944]: Class CaptureDelegate is implemented in both /Users/maitreyakanitkar/miniconda3/envs/myenv/lib/python3.10/site-packages/cv2/cv2.abi3.so (0x177c865a0) and /Users/maitreyakanitkar/miniconda3/envs/myenv/lib/python3.10/site-packages/mediapipe/.dylibs/libopencv_videoio.3.4.16.dylib (0x12fb9c860). One of the two will be used. Which one is undefined.\n",
      "objc[76944]: Class CVWindow is implemented in both /Users/maitreyakanitkar/miniconda3/envs/myenv/lib/python3.10/site-packages/cv2/cv2.abi3.so (0x177c865f0) and /Users/maitreyakanitkar/miniconda3/envs/myenv/lib/python3.10/site-packages/mediapipe/.dylibs/libopencv_highgui.3.4.16.dylib (0x129214a68). One of the two will be used. Which one is undefined.\n",
      "objc[76944]: Class CVView is implemented in both /Users/maitreyakanitkar/miniconda3/envs/myenv/lib/python3.10/site-packages/cv2/cv2.abi3.so (0x177c86618) and /Users/maitreyakanitkar/miniconda3/envs/myenv/lib/python3.10/site-packages/mediapipe/.dylibs/libopencv_highgui.3.4.16.dylib (0x129214a90). One of the two will be used. Which one is undefined.\n",
      "objc[76944]: Class CVSlider is implemented in both /Users/maitreyakanitkar/miniconda3/envs/myenv/lib/python3.10/site-packages/cv2/cv2.abi3.so (0x177c86640) and /Users/maitreyakanitkar/miniconda3/envs/myenv/lib/python3.10/site-packages/mediapipe/.dylibs/libopencv_highgui.3.4.16.dylib (0x129214ab8). One of the two will be used. Which one is undefined.\n",
      "INFO: Created TensorFlow Lite XNNPACK delegate for CPU.\n"
     ]
    },
    {
     "ename": "",
     "evalue": "",
     "output_type": "error",
     "traceback": [
      "\u001b[1;31mThe Kernel crashed while executing code in the the current cell or a previous cell. Please review the code in the cell(s) to identify a possible cause of the failure. Click <a href='https://aka.ms/vscodeJupyterKernelCrash'>here</a> for more info. View Jupyter <a href='command:jupyter.viewOutput'>log</a> for further details."
     ]
    }
   ],
   "source": [
    "import cv2\n",
    "import mediapipe as mp\n",
    "import time\n",
    "\n",
    "#capturing video\n",
    "cap=cv2.VideoCapture(\"test2.mp4\")\n",
    "\n",
    "#this will help us detect the pose and draw the reference points\n",
    "mpPose=mp.solutions.pose\n",
    "pose=mpPose.Pose()\n",
    "mpDraw=mp.solutions.drawing_utils\n",
    "\n",
    "#variables required to print frame rate\n",
    "previous_time=0\n",
    "current_time=0\n",
    "\n",
    "#video\n",
    "while True:\n",
    "    success, img=cap.read()\n",
    "    \n",
    "    #converting image to rgb\n",
    "    img_rgb=cv2.cvtColor(img, cv2.COLOR_BGR2RGB)\n",
    "    \n",
    "    results=pose.process(img_rgb)\n",
    "    \n",
    "    if results.pose_landmarks:\n",
    "        mpDraw.draw_landmarks(img, results.pose_landmarks, mpPose.POSE_CONNECTIONS)\n",
    "    \n",
    "    #calculating the frame rate\n",
    "    current_time=time.time()\n",
    "    frame_rate=1/(current_time-previous_time)\n",
    "    previous_time=current_time\n",
    "    \n",
    "    #displaying the results\n",
    "    cv2.putText(img, str(int(frame_rate)), (20, 40), cv2.FONT_HERSHEY_PLAIN, 3, (0, 0, 255), 3)\n",
    "    cv2.imshow(\"camera\", img)\n",
    "    if cv2.waitKey(1) & 0xFF==ord('q'):\n",
    "        cap.release()\n",
    "        cv2.destroyAllWindows()\n",
    "        break"
   ]
  }
 ],
 "metadata": {
  "kernelspec": {
   "display_name": "CodingEnvironment",
   "language": "python",
   "name": "python3"
  },
  "language_info": {
   "codemirror_mode": {
    "name": "ipython",
    "version": 3
   },
   "file_extension": ".py",
   "mimetype": "text/x-python",
   "name": "python",
   "nbconvert_exporter": "python",
   "pygments_lexer": "ipython3",
   "version": "3.10.10"
  },
  "vscode": {
   "interpreter": {
    "hash": "adaea6e1d8e5ed3e037ae8442fa8e486d059ca81fd5214490aa3497523b529f6"
   }
  }
 },
 "nbformat": 4,
 "nbformat_minor": 5
}
